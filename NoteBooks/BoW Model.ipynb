{
  "cells": [
    {
      "cell_type": "markdown",
      "metadata": {
        "id": "rP7cEe8E5uys"
      },
      "source": [
        "# CountVectorizer\n",
        "WORD ORDER AND WHAT LANGUAGE DOESNT MATTER.\n",
        "its a stateful process coz it depends on the entire corpus. the column index for each word depends on the order when the transformer saw it. you can connect the indices with the actual vocabulary"
      ]
    },
    {
      "cell_type": "code",
      "execution_count": 5,
      "metadata": {
        "id": "phqXvYFz5uyy"
      },
      "outputs": [],
      "source": [
        "doc = ['the quick brown fox jumps over the moon',\n",
        "      'the moon was full that night of the year']"
      ]
    },
    {
      "cell_type": "code",
      "execution_count": 6,
      "metadata": {
        "id": "JZSAtY2Y5uy0"
      },
      "outputs": [],
      "source": [
        "from sklearn.feature_extraction.text import CountVectorizer"
      ]
    },
    {
      "cell_type": "code",
      "execution_count": 7,
      "metadata": {
        "id": "Q9cmMmxL5uy0"
      },
      "outputs": [],
      "source": [
        "bow_vec = CountVectorizer(lowercase=True)\n",
        "bow_vec.fit(doc)\n",
        "word_counts = bow_vec.transform (doc)"
      ]
    },
    {
      "cell_type": "code",
      "execution_count": 8,
      "metadata": {
        "id": "pbu0zQyY5uy1",
        "outputId": "8dd2bac3-c56f-499d-c987-3d2973280701",
        "colab": {
          "base_uri": "https://localhost:8080/"
        }
      },
      "outputs": [
        {
          "output_type": "stream",
          "name": "stdout",
          "text": [
            "  (0, 0)\t1\n",
            "  (0, 1)\t1\n",
            "  (0, 3)\t1\n",
            "  (0, 4)\t1\n",
            "  (0, 7)\t1\n",
            "  (0, 8)\t1\n",
            "  (0, 10)\t2\n",
            "  (1, 2)\t1\n",
            "  (1, 4)\t1\n",
            "  (1, 5)\t1\n",
            "  (1, 6)\t1\n",
            "  (1, 9)\t1\n",
            "  (1, 10)\t2\n",
            "  (1, 11)\t1\n",
            "  (1, 12)\t1\n"
          ]
        }
      ],
      "source": [
        "print (word_counts)"
      ]
    },
    {
      "cell_type": "code",
      "execution_count": null,
      "metadata": {
        "id": "8dfxYmwX5uy2",
        "outputId": "4a4d75ee-ac46-462a-cc7f-85633eb34aac"
      },
      "outputs": [
        {
          "data": {
            "text/plain": [
              "array([[1, 1, 0, 1, 1, 0, 1, 1, 0, 2, 0],\n",
              "       [0, 0, 1, 0, 1, 1, 0, 0, 1, 1, 1]])"
            ]
          },
          "execution_count": 5,
          "metadata": {},
          "output_type": "execute_result"
        }
      ],
      "source": [
        "word_counts.toarray()"
      ]
    },
    {
      "cell_type": "code",
      "execution_count": null,
      "metadata": {
        "id": "d01ManO55uy3"
      },
      "outputs": [],
      "source": [
        "import pandas as pd"
      ]
    },
    {
      "cell_type": "code",
      "execution_count": null,
      "metadata": {
        "id": "x0PCRlRy5uy4"
      },
      "outputs": [],
      "source": [
        "df = pd.DataFrame(word_counts.toarray(), columns = sorted(bow_vec.vocabulary_))"
      ]
    },
    {
      "cell_type": "code",
      "execution_count": null,
      "metadata": {
        "id": "D4_U5inG5uy5",
        "outputId": "60395edb-ebf8-49a7-eac2-332b3a3a7df7"
      },
      "outputs": [
        {
          "data": {
            "text/html": [
              "<div>\n",
              "<style scoped>\n",
              "    .dataframe tbody tr th:only-of-type {\n",
              "        vertical-align: middle;\n",
              "    }\n",
              "\n",
              "    .dataframe tbody tr th {\n",
              "        vertical-align: top;\n",
              "    }\n",
              "\n",
              "    .dataframe thead th {\n",
              "        text-align: right;\n",
              "    }\n",
              "</style>\n",
              "<table border=\"1\" class=\"dataframe\">\n",
              "  <thead>\n",
              "    <tr style=\"text-align: right;\">\n",
              "      <th></th>\n",
              "      <th>brown</th>\n",
              "      <th>fox</th>\n",
              "      <th>full</th>\n",
              "      <th>jumps</th>\n",
              "      <th>moon</th>\n",
              "      <th>night</th>\n",
              "      <th>over</th>\n",
              "      <th>quick</th>\n",
              "      <th>that</th>\n",
              "      <th>the</th>\n",
              "      <th>was</th>\n",
              "    </tr>\n",
              "  </thead>\n",
              "  <tbody>\n",
              "    <tr>\n",
              "      <td>0</td>\n",
              "      <td>1</td>\n",
              "      <td>1</td>\n",
              "      <td>0</td>\n",
              "      <td>1</td>\n",
              "      <td>1</td>\n",
              "      <td>0</td>\n",
              "      <td>1</td>\n",
              "      <td>1</td>\n",
              "      <td>0</td>\n",
              "      <td>2</td>\n",
              "      <td>0</td>\n",
              "    </tr>\n",
              "    <tr>\n",
              "      <td>1</td>\n",
              "      <td>0</td>\n",
              "      <td>0</td>\n",
              "      <td>1</td>\n",
              "      <td>0</td>\n",
              "      <td>1</td>\n",
              "      <td>1</td>\n",
              "      <td>0</td>\n",
              "      <td>0</td>\n",
              "      <td>1</td>\n",
              "      <td>1</td>\n",
              "      <td>1</td>\n",
              "    </tr>\n",
              "  </tbody>\n",
              "</table>\n",
              "</div>"
            ],
            "text/plain": [
              "   brown  fox  full  jumps  moon  night  over  quick  that  the  was\n",
              "0      1    1     0      1     1      0     1      1     0    2    0\n",
              "1      0    0     1      0     1      1     0      0     1    1    1"
            ]
          },
          "execution_count": 8,
          "metadata": {},
          "output_type": "execute_result"
        }
      ],
      "source": [
        "df\n",
        "# word order anf langauage doesnt matter here"
      ]
    },
    {
      "cell_type": "markdown",
      "metadata": {
        "id": "-IXJF0KS5uy6"
      },
      "source": [
        "# HashingVectorizer"
      ]
    },
    {
      "cell_type": "code",
      "execution_count": null,
      "metadata": {
        "id": "0AB_tdHI5uy7"
      },
      "outputs": [],
      "source": [
        "## Vectorizer is a transoformer that will text and \n",
        "#turn it into numerical features to pump into your model"
      ]
    },
    {
      "cell_type": "code",
      "execution_count": null,
      "metadata": {
        "id": "zS561Std5uy7"
      },
      "outputs": [],
      "source": [
        "from sklearn.feature_extraction.text import HashingVectorizer"
      ]
    },
    {
      "cell_type": "code",
      "execution_count": null,
      "metadata": {
        "id": "DOqKUxhr5uy8"
      },
      "outputs": [],
      "source": [
        "HashingVectorizer?"
      ]
    },
    {
      "cell_type": "code",
      "execution_count": null,
      "metadata": {
        "id": "VSCm9d5O5uy8",
        "outputId": "555f57a5-9d3b-4619-ec80-e837c5e0b396"
      },
      "outputs": [
        {
          "data": {
            "text/plain": [
              "HashingVectorizer(alternate_sign=True, analyzer='word', binary=False,\n",
              "                  decode_error='strict', dtype=<class 'numpy.float64'>,\n",
              "                  encoding='utf-8', input='content', lowercase=True,\n",
              "                  n_features=20, ngram_range=(1, 1), norm='l2',\n",
              "                  preprocessor=None, stop_words=None, strip_accents=None,\n",
              "                  token_pattern='(?u)\\\\b\\\\w\\\\w+\\\\b', tokenizer=None)"
            ]
          },
          "execution_count": 9,
          "metadata": {},
          "output_type": "execute_result"
        }
      ],
      "source": [
        "hash_vec = HashingVectorizer(n_features=20)\n",
        "hash_vec.fit(doc)"
      ]
    },
    {
      "cell_type": "code",
      "execution_count": null,
      "metadata": {
        "id": "fEfjtBIj5uy8"
      },
      "outputs": [],
      "source": [
        "hash_counts = hash_vec.transform (doc)"
      ]
    },
    {
      "cell_type": "code",
      "execution_count": null,
      "metadata": {
        "id": "pxgiJblh5uy9",
        "outputId": "f46dc969-132f-4170-848c-53571ce1382b"
      },
      "outputs": [
        {
          "data": {
            "text/html": [
              "<div>\n",
              "<style scoped>\n",
              "    .dataframe tbody tr th:only-of-type {\n",
              "        vertical-align: middle;\n",
              "    }\n",
              "\n",
              "    .dataframe tbody tr th {\n",
              "        vertical-align: top;\n",
              "    }\n",
              "\n",
              "    .dataframe thead th {\n",
              "        text-align: right;\n",
              "    }\n",
              "</style>\n",
              "<table border=\"1\" class=\"dataframe\">\n",
              "  <thead>\n",
              "    <tr style=\"text-align: right;\">\n",
              "      <th></th>\n",
              "      <th>0</th>\n",
              "      <th>1</th>\n",
              "      <th>2</th>\n",
              "      <th>3</th>\n",
              "      <th>4</th>\n",
              "      <th>5</th>\n",
              "      <th>6</th>\n",
              "      <th>7</th>\n",
              "      <th>8</th>\n",
              "      <th>9</th>\n",
              "      <th>10</th>\n",
              "      <th>11</th>\n",
              "      <th>12</th>\n",
              "      <th>13</th>\n",
              "      <th>14</th>\n",
              "      <th>15</th>\n",
              "      <th>16</th>\n",
              "      <th>17</th>\n",
              "      <th>18</th>\n",
              "      <th>19</th>\n",
              "    </tr>\n",
              "  </thead>\n",
              "  <tbody>\n",
              "    <tr>\n",
              "      <td>0</td>\n",
              "      <td>0.0</td>\n",
              "      <td>0.000000</td>\n",
              "      <td>0.0</td>\n",
              "      <td>0.000000</td>\n",
              "      <td>0.0</td>\n",
              "      <td>0.316228</td>\n",
              "      <td>-0.316228</td>\n",
              "      <td>0.0</td>\n",
              "      <td>0.316228</td>\n",
              "      <td>0.0</td>\n",
              "      <td>0.0</td>\n",
              "      <td>0.316228</td>\n",
              "      <td>0.0</td>\n",
              "      <td>0.0</td>\n",
              "      <td>0.0</td>\n",
              "      <td>-0.316228</td>\n",
              "      <td>0.0</td>\n",
              "      <td>0.316228</td>\n",
              "      <td>-0.632456</td>\n",
              "      <td>0.0</td>\n",
              "    </tr>\n",
              "    <tr>\n",
              "      <td>1</td>\n",
              "      <td>0.0</td>\n",
              "      <td>0.408248</td>\n",
              "      <td>0.0</td>\n",
              "      <td>0.408248</td>\n",
              "      <td>0.0</td>\n",
              "      <td>0.000000</td>\n",
              "      <td>-0.408248</td>\n",
              "      <td>0.0</td>\n",
              "      <td>0.000000</td>\n",
              "      <td>0.0</td>\n",
              "      <td>0.0</td>\n",
              "      <td>0.000000</td>\n",
              "      <td>0.0</td>\n",
              "      <td>0.0</td>\n",
              "      <td>0.0</td>\n",
              "      <td>-0.408248</td>\n",
              "      <td>0.0</td>\n",
              "      <td>-0.408248</td>\n",
              "      <td>-0.408248</td>\n",
              "      <td>0.0</td>\n",
              "    </tr>\n",
              "  </tbody>\n",
              "</table>\n",
              "</div>"
            ],
            "text/plain": [
              "     0         1    2         3    4         5         6    7         8    9  \\\n",
              "0  0.0  0.000000  0.0  0.000000  0.0  0.316228 -0.316228  0.0  0.316228  0.0   \n",
              "1  0.0  0.408248  0.0  0.408248  0.0  0.000000 -0.408248  0.0  0.000000  0.0   \n",
              "\n",
              "    10        11   12   13   14        15   16        17        18   19  \n",
              "0  0.0  0.316228  0.0  0.0  0.0 -0.316228  0.0  0.316228 -0.632456  0.0  \n",
              "1  0.0  0.000000  0.0  0.0  0.0 -0.408248  0.0 -0.408248 -0.408248  0.0  "
            ]
          },
          "execution_count": 11,
          "metadata": {},
          "output_type": "execute_result"
        }
      ],
      "source": [
        "pd.DataFrame(hash_counts.toarray())"
      ]
    },
    {
      "cell_type": "code",
      "execution_count": null,
      "metadata": {
        "collapsed": true,
        "id": "zkvkZaCd5uy9",
        "outputId": "ea3e6747-15b0-43f5-8c60-b248444d5c52"
      },
      "outputs": [
        {
          "data": {
            "text/plain": [
              "scipy.sparse.csr.csr_matrix"
            ]
          },
          "execution_count": 79,
          "metadata": {},
          "output_type": "execute_result"
        }
      ],
      "source": [
        "type(hash_counts)\n",
        "#HASHING IS STATELESS"
      ]
    },
    {
      "cell_type": "markdown",
      "metadata": {
        "id": "hXVfmpys5uy-"
      },
      "source": [
        "# TF-IDF"
      ]
    },
    {
      "cell_type": "code",
      "execution_count": null,
      "metadata": {
        "id": "zNbu1Pcs5uy-"
      },
      "outputs": [],
      "source": [
        "from sklearn.feature_extraction.text import TfidfVectorizer\n",
        "\n"
      ]
    },
    {
      "cell_type": "code",
      "execution_count": null,
      "metadata": {
        "id": "FzZIHcaH5uy-"
      },
      "outputs": [],
      "source": [
        "tfidf_vec = TfidfVectorizer()\n",
        "tfidf_vec.fit(doc)\n",
        "tfidf_counts  = tfidf_vec.transform (doc)"
      ]
    },
    {
      "cell_type": "code",
      "execution_count": null,
      "metadata": {
        "id": "ZyCbnZI55uy-",
        "outputId": "c459f473-72e7-4f7e-97a1-f854a3ac1288"
      },
      "outputs": [
        {
          "data": {
            "text/plain": [
              "['the quick brown fox jumps over the moon', 'the moon was full that night']"
            ]
          },
          "execution_count": 14,
          "metadata": {},
          "output_type": "execute_result"
        }
      ],
      "source": [
        "doc"
      ]
    },
    {
      "cell_type": "code",
      "execution_count": null,
      "metadata": {
        "id": "oiTAnSwc5uy_",
        "outputId": "6cd50e49-bdbb-49f5-d5da-0470a7a67cb3"
      },
      "outputs": [
        {
          "data": {
            "text/html": [
              "<div>\n",
              "<style scoped>\n",
              "    .dataframe tbody tr th:only-of-type {\n",
              "        vertical-align: middle;\n",
              "    }\n",
              "\n",
              "    .dataframe tbody tr th {\n",
              "        vertical-align: top;\n",
              "    }\n",
              "\n",
              "    .dataframe thead th {\n",
              "        text-align: right;\n",
              "    }\n",
              "</style>\n",
              "<table border=\"1\" class=\"dataframe\">\n",
              "  <thead>\n",
              "    <tr style=\"text-align: right;\">\n",
              "      <th></th>\n",
              "      <th>the</th>\n",
              "      <th>quick</th>\n",
              "      <th>brown</th>\n",
              "      <th>fox</th>\n",
              "      <th>jumps</th>\n",
              "      <th>over</th>\n",
              "      <th>moon</th>\n",
              "      <th>was</th>\n",
              "      <th>full</th>\n",
              "      <th>that</th>\n",
              "      <th>night</th>\n",
              "    </tr>\n",
              "  </thead>\n",
              "  <tbody>\n",
              "    <tr>\n",
              "      <td>0</td>\n",
              "      <td>0.364391</td>\n",
              "      <td>0.364391</td>\n",
              "      <td>0.000000</td>\n",
              "      <td>0.364391</td>\n",
              "      <td>0.259267</td>\n",
              "      <td>0.000000</td>\n",
              "      <td>0.364391</td>\n",
              "      <td>0.364391</td>\n",
              "      <td>0.000000</td>\n",
              "      <td>0.518534</td>\n",
              "      <td>0.000000</td>\n",
              "    </tr>\n",
              "    <tr>\n",
              "      <td>1</td>\n",
              "      <td>0.000000</td>\n",
              "      <td>0.000000</td>\n",
              "      <td>0.446656</td>\n",
              "      <td>0.000000</td>\n",
              "      <td>0.317800</td>\n",
              "      <td>0.446656</td>\n",
              "      <td>0.000000</td>\n",
              "      <td>0.000000</td>\n",
              "      <td>0.446656</td>\n",
              "      <td>0.317800</td>\n",
              "      <td>0.446656</td>\n",
              "    </tr>\n",
              "  </tbody>\n",
              "</table>\n",
              "</div>"
            ],
            "text/plain": [
              "        the     quick     brown       fox     jumps      over      moon  \\\n",
              "0  0.364391  0.364391  0.000000  0.364391  0.259267  0.000000  0.364391   \n",
              "1  0.000000  0.000000  0.446656  0.000000  0.317800  0.446656  0.000000   \n",
              "\n",
              "        was      full      that     night  \n",
              "0  0.364391  0.000000  0.518534  0.000000  \n",
              "1  0.000000  0.446656  0.317800  0.446656  "
            ]
          },
          "execution_count": 15,
          "metadata": {},
          "output_type": "execute_result"
        }
      ],
      "source": [
        "pd.DataFrame(tfidf_counts.toarray(), columns= tfidf_vec.vocabulary_)"
      ]
    },
    {
      "cell_type": "code",
      "execution_count": null,
      "metadata": {
        "id": "ayzxvw3X5uy_",
        "outputId": "456ed382-a520-42e8-f732-989ec6971578"
      },
      "outputs": [
        {
          "data": {
            "text/plain": [
              "[('brown', 0),\n",
              " ('fox', 1),\n",
              " ('full', 2),\n",
              " ('jumps', 3),\n",
              " ('moon', 4),\n",
              " ('night', 5),\n",
              " ('over', 6),\n",
              " ('quick', 7),\n",
              " ('that', 8),\n",
              " ('the', 9),\n",
              " ('was', 10)]"
            ]
          },
          "execution_count": 16,
          "metadata": {},
          "output_type": "execute_result"
        }
      ],
      "source": [
        "sorted(list(tfidf_vec.vocabulary_.items()))"
      ]
    },
    {
      "cell_type": "markdown",
      "metadata": {
        "id": "8WRnYEtP5uzA"
      },
      "source": [
        "# n grams"
      ]
    },
    {
      "cell_type": "code",
      "execution_count": null,
      "metadata": {
        "id": "ZCsKKQcU5uzA"
      },
      "outputs": [],
      "source": [
        "ngcf = CountVectorizer(ngram_range=(1,2))\n",
        "ngcf.fit(doc)\n",
        "counts = ngcf.transform (doc).toarray()"
      ]
    },
    {
      "cell_type": "code",
      "execution_count": null,
      "metadata": {
        "id": "pE3PqRDp5uzA",
        "outputId": "216418a4-0f9a-404a-ef2d-a4fa3d376225"
      },
      "outputs": [
        {
          "data": {
            "text/plain": [
              "['the quick brown fox jumps over the moon', 'the moon was full that night']"
            ]
          },
          "execution_count": 24,
          "metadata": {},
          "output_type": "execute_result"
        }
      ],
      "source": [
        "doc"
      ]
    },
    {
      "cell_type": "code",
      "execution_count": null,
      "metadata": {
        "id": "LcEDfnhN5uzB",
        "outputId": "c668f115-50e7-4c2d-a182-9a807541c239"
      },
      "outputs": [
        {
          "data": {
            "text/plain": [
              "array([[1, 1, 1, 1, 0, 0, 1, 1, 1, 0, 0, 1, 1, 1, 1, 0, 0, 2, 1, 1, 0, 0],\n",
              "       [0, 0, 0, 0, 1, 1, 0, 0, 1, 1, 1, 0, 0, 0, 0, 1, 1, 1, 1, 0, 1, 1]])"
            ]
          },
          "execution_count": 25,
          "metadata": {},
          "output_type": "execute_result"
        }
      ],
      "source": [
        "counts"
      ]
    },
    {
      "cell_type": "code",
      "execution_count": null,
      "metadata": {
        "id": "P1wicxVn5uzB",
        "outputId": "d9bebfc3-4eb1-4be9-c67d-e4320fcf7590"
      },
      "outputs": [
        {
          "data": {
            "text/html": [
              "<div>\n",
              "<style scoped>\n",
              "    .dataframe tbody tr th:only-of-type {\n",
              "        vertical-align: middle;\n",
              "    }\n",
              "\n",
              "    .dataframe tbody tr th {\n",
              "        vertical-align: top;\n",
              "    }\n",
              "\n",
              "    .dataframe thead th {\n",
              "        text-align: right;\n",
              "    }\n",
              "</style>\n",
              "<table border=\"1\" class=\"dataframe\">\n",
              "  <thead>\n",
              "    <tr style=\"text-align: right;\">\n",
              "      <th></th>\n",
              "      <th>the</th>\n",
              "      <th>quick</th>\n",
              "      <th>brown</th>\n",
              "      <th>fox</th>\n",
              "      <th>jumps</th>\n",
              "      <th>over</th>\n",
              "      <th>moon</th>\n",
              "      <th>the quick</th>\n",
              "      <th>quick brown</th>\n",
              "      <th>brown fox</th>\n",
              "      <th>...</th>\n",
              "      <th>over the</th>\n",
              "      <th>the moon</th>\n",
              "      <th>was</th>\n",
              "      <th>full</th>\n",
              "      <th>that</th>\n",
              "      <th>night</th>\n",
              "      <th>moon was</th>\n",
              "      <th>was full</th>\n",
              "      <th>full that</th>\n",
              "      <th>that night</th>\n",
              "    </tr>\n",
              "  </thead>\n",
              "  <tbody>\n",
              "    <tr>\n",
              "      <td>0</td>\n",
              "      <td>1</td>\n",
              "      <td>1</td>\n",
              "      <td>1</td>\n",
              "      <td>1</td>\n",
              "      <td>0</td>\n",
              "      <td>0</td>\n",
              "      <td>1</td>\n",
              "      <td>1</td>\n",
              "      <td>1</td>\n",
              "      <td>0</td>\n",
              "      <td>...</td>\n",
              "      <td>1</td>\n",
              "      <td>1</td>\n",
              "      <td>1</td>\n",
              "      <td>0</td>\n",
              "      <td>0</td>\n",
              "      <td>2</td>\n",
              "      <td>1</td>\n",
              "      <td>1</td>\n",
              "      <td>0</td>\n",
              "      <td>0</td>\n",
              "    </tr>\n",
              "    <tr>\n",
              "      <td>1</td>\n",
              "      <td>0</td>\n",
              "      <td>0</td>\n",
              "      <td>0</td>\n",
              "      <td>0</td>\n",
              "      <td>1</td>\n",
              "      <td>1</td>\n",
              "      <td>0</td>\n",
              "      <td>0</td>\n",
              "      <td>1</td>\n",
              "      <td>1</td>\n",
              "      <td>...</td>\n",
              "      <td>0</td>\n",
              "      <td>0</td>\n",
              "      <td>0</td>\n",
              "      <td>1</td>\n",
              "      <td>1</td>\n",
              "      <td>1</td>\n",
              "      <td>1</td>\n",
              "      <td>0</td>\n",
              "      <td>1</td>\n",
              "      <td>1</td>\n",
              "    </tr>\n",
              "  </tbody>\n",
              "</table>\n",
              "<p>2 rows × 22 columns</p>\n",
              "</div>"
            ],
            "text/plain": [
              "   the  quick  brown  fox  jumps  over  moon  the quick  quick brown  \\\n",
              "0    1      1      1    1      0     0     1          1            1   \n",
              "1    0      0      0    0      1     1     0          0            1   \n",
              "\n",
              "   brown fox  ...  over the  the moon  was  full  that  night  moon was  \\\n",
              "0          0  ...         1         1    1     0     0      2         1   \n",
              "1          1  ...         0         0    0     1     1      1         1   \n",
              "\n",
              "   was full  full that  that night  \n",
              "0         1          0           0  \n",
              "1         0          1           1  \n",
              "\n",
              "[2 rows x 22 columns]"
            ]
          },
          "execution_count": 26,
          "metadata": {},
          "output_type": "execute_result"
        }
      ],
      "source": [
        "pd.DataFrame (counts, columns=ngcf.vocabulary_.keys())"
      ]
    },
    {
      "cell_type": "markdown",
      "metadata": {
        "id": "ZkW6fwWn5uzB"
      },
      "source": [
        "# bigrams\n"
      ]
    },
    {
      "cell_type": "code",
      "execution_count": null,
      "metadata": {
        "id": "MM4GX9In5uzB"
      },
      "outputs": [],
      "source": [
        "corpus = ['it was the best of times',\n",
        "         'it was the worst of times']"
      ]
    },
    {
      "cell_type": "code",
      "execution_count": null,
      "metadata": {
        "id": "DKz7NpLW5uzC"
      },
      "outputs": [],
      "source": [
        "cv = CountVectorizer(lowercase=True, ngram_range=(1,2))"
      ]
    },
    {
      "cell_type": "code",
      "execution_count": null,
      "metadata": {
        "id": "TUt_BkZM5uzC"
      },
      "outputs": [],
      "source": [
        "cv.fit(corpus)\n",
        "matrix = cv.transform(corpus).todense()"
      ]
    },
    {
      "cell_type": "code",
      "execution_count": null,
      "metadata": {
        "id": "Opx4_SvU5uzC",
        "outputId": "50e2ba08-33ee-407f-bb23-fb426ab449cc"
      },
      "outputs": [
        {
          "data": {
            "text/html": [
              "<div>\n",
              "<style scoped>\n",
              "    .dataframe tbody tr th:only-of-type {\n",
              "        vertical-align: middle;\n",
              "    }\n",
              "\n",
              "    .dataframe tbody tr th {\n",
              "        vertical-align: top;\n",
              "    }\n",
              "\n",
              "    .dataframe thead th {\n",
              "        text-align: right;\n",
              "    }\n",
              "</style>\n",
              "<table border=\"1\" class=\"dataframe\">\n",
              "  <thead>\n",
              "    <tr style=\"text-align: right;\">\n",
              "      <th></th>\n",
              "      <th>best</th>\n",
              "      <th>best of</th>\n",
              "      <th>it</th>\n",
              "      <th>it was</th>\n",
              "      <th>of</th>\n",
              "      <th>of times</th>\n",
              "      <th>the</th>\n",
              "      <th>the best</th>\n",
              "      <th>the worst</th>\n",
              "      <th>times</th>\n",
              "      <th>was</th>\n",
              "      <th>was the</th>\n",
              "      <th>worst</th>\n",
              "      <th>worst of</th>\n",
              "    </tr>\n",
              "  </thead>\n",
              "  <tbody>\n",
              "    <tr>\n",
              "      <td>0</td>\n",
              "      <td>1</td>\n",
              "      <td>1</td>\n",
              "      <td>1</td>\n",
              "      <td>1</td>\n",
              "      <td>1</td>\n",
              "      <td>1</td>\n",
              "      <td>1</td>\n",
              "      <td>1</td>\n",
              "      <td>0</td>\n",
              "      <td>1</td>\n",
              "      <td>1</td>\n",
              "      <td>1</td>\n",
              "      <td>0</td>\n",
              "      <td>0</td>\n",
              "    </tr>\n",
              "    <tr>\n",
              "      <td>1</td>\n",
              "      <td>0</td>\n",
              "      <td>0</td>\n",
              "      <td>1</td>\n",
              "      <td>1</td>\n",
              "      <td>1</td>\n",
              "      <td>1</td>\n",
              "      <td>1</td>\n",
              "      <td>0</td>\n",
              "      <td>1</td>\n",
              "      <td>1</td>\n",
              "      <td>1</td>\n",
              "      <td>1</td>\n",
              "      <td>1</td>\n",
              "      <td>1</td>\n",
              "    </tr>\n",
              "  </tbody>\n",
              "</table>\n",
              "</div>"
            ],
            "text/plain": [
              "   best  best of  it  it was  of  of times  the  the best  the worst  times  \\\n",
              "0     1        1   1       1   1         1    1         1          0      1   \n",
              "1     0        0   1       1   1         1    1         0          1      1   \n",
              "\n",
              "   was  was the  worst  worst of  \n",
              "0    1        1      0         0  \n",
              "1    1        1      1         1  "
            ]
          },
          "execution_count": 33,
          "metadata": {},
          "output_type": "execute_result"
        }
      ],
      "source": [
        "pd.DataFrame(matrix, columns= sorted(cv.vocabulary_))"
      ]
    },
    {
      "cell_type": "code",
      "execution_count": null,
      "metadata": {
        "id": "qKpw-g6O5uzC"
      },
      "outputs": [],
      "source": [
        ""
      ]
    }
  ],
  "metadata": {
    "kernelspec": {
      "display_name": "Python 3",
      "language": "python",
      "name": "python3"
    },
    "language_info": {
      "codemirror_mode": {
        "name": "ipython",
        "version": 3
      },
      "file_extension": ".py",
      "mimetype": "text/x-python",
      "name": "python",
      "nbconvert_exporter": "python",
      "pygments_lexer": "ipython3",
      "version": "3.7.4"
    },
    "colab": {
      "name": "BoW Model.ipynb",
      "provenance": []
    }
  },
  "nbformat": 4,
  "nbformat_minor": 0
}