{
  "cells": [
    {
      "cell_type": "code",
      "execution_count": 1,
      "metadata": {
        "id": "wv6nu-Fc4s7n"
      },
      "outputs": [],
      "source": [
        "%matplotlib inline\n",
        "import matplotlib\n",
        "import seaborn as sns\n",
        "sns.set()\n",
        "matplotlib.rcParams['figure.dpi'] = 144\n",
        "\n",
        "import numpy as np\n",
        "import matplotlib.pyplot as plt\n",
        "import pandas as pd"
      ]
    },
    {
      "cell_type": "code",
      "source": [
        "pd.DataFrame?"
      ],
      "metadata": {
        "id": "L4czxXcP420g"
      },
      "execution_count": 2,
      "outputs": []
    },
    {
      "cell_type": "code",
      "execution_count": null,
      "metadata": {
        "id": "fbe6swMH4s7t"
      },
      "outputs": [],
      "source": [
        "df = pd.DataFrame(X, columns=data.feature_names)"
      ]
    },
    {
      "cell_type": "code",
      "execution_count": null,
      "metadata": {
        "id": "iKeWy5BX4s7u"
      },
      "outputs": [],
      "source": [
        "import graphviz\n",
        "from sklearn.datasets import load_iris\n",
        "from sklearn.tree import DecisionTreeClassifier, export_graphviz\n",
        "\n",
        "# load data set\n",
        "data = load_iris()\n",
        "X = data['data']\n",
        "y = data['target']\n",
        "\n",
        "# train decision tree\n",
        "treec = DecisionTreeClassifier(max_depth=3)\n",
        "treec.fit(X, y);\n",
        "\n",
        "# visual tree\n",
        "# graphviz.Source(export_graphviz(treec,                                  out_file=None,\n",
        "#                                  feature_names=data['feature_names'],\n",
        "#                                  class_names=data['target_names']))"
      ]
    },
    {
      "cell_type": "code",
      "execution_count": null,
      "metadata": {
        "id": "tvG3kPm34s7u"
      },
      "outputs": [],
      "source": [
        "treec.score(X,y)"
      ]
    },
    {
      "cell_type": "code",
      "execution_count": null,
      "metadata": {
        "id": "TuPWQ9cU4s7v"
      },
      "outputs": [],
      "source": [
        "df.min()"
      ]
    },
    {
      "cell_type": "code",
      "execution_count": null,
      "metadata": {
        "id": "eHadwsX34s7v"
      },
      "outputs": [],
      "source": [
        "df.max()"
      ]
    },
    {
      "cell_type": "code",
      "execution_count": null,
      "metadata": {
        "id": "3g8oCNOz4s7w"
      },
      "outputs": [],
      "source": [
        "from ipywidgets import interact, IntSlider\n",
        "\n",
        "def iris_tree(depth=1):\n",
        "    plt.scatter(X[:, 2], X[:, 3], c=y, cmap=plt.cm.viridis)\n",
        "    \n",
        "    if depth >= 1:\n",
        "        plt.hlines(0.8, .8, 7, linewidth=1)\n",
        "    if depth >= 2:\n",
        "        plt.hlines(1.75, 0.8, 7, linewidth=1)\n",
        "    if depth >= 3:\n",
        "        plt.vlines(4.95, 0.8, 1.75, linewidth=1, colors='r')\n",
        "        plt.vlines(4.85, 1.75, 2.6, linewidth=1, colors='b')\n",
        "    plt.xlabel('Petal Length (cm)')\n",
        "    plt.ylabel('Petal Width (cm)')\n",
        "    plt.xlim([0.8, 7])\n",
        "    plt.ylim([0, 2.6])\n",
        "    \n",
        "# depth_slider = IntSlider(value=0, min=0, max=3, step=1, description='depth')\n",
        "# interact(iris_tree, depth=depth_slider);"
      ]
    },
    {
      "cell_type": "markdown",
      "metadata": {
        "id": "NvfQCw5R4s7x"
      },
      "source": [
        "### gini impurity metric\n",
        "|\n",
        "|----> probability of misclassifying an observation it it were randomly labeled based on distribution of labels of the node/\n",
        "The equation for the Gini impurity for node $m$ is\n",
        "\n",
        "$$ G_m = \\sum_k p_{mk} (1 - p_{mk}), $$\n",
        "\n",
        "where $p_{mk}$ is the fraction of observations of class $k$ in node $m$."
      ]
    },
    {
      "cell_type": "code",
      "execution_count": null,
      "metadata": {
        "id": "xQPZqslN4s70"
      },
      "outputs": [],
      "source": [
        "p = np.linspace(1E-6, 1-1E-6, 100)\n",
        "gini = p*(1-p) + (1-p)*p\n",
        "\n",
        "plt.plot(p, gini)\n",
        "plt.xlabel('$p$')\n",
        "plt.ylabel('Gini');"
      ]
    },
    {
      "cell_type": "markdown",
      "metadata": {
        "id": "FTp8NfF54s71"
      },
      "source": [
        "### Entropy\n",
        "measure of the amount of missing information. The more information is missing, the more uncertainty exists in a process. The equation for entropy of node $m$ is\n",
        "\n",
        "\n",
        "$$ H_m = -\\sum_{k} p_{mk} \\log_2(p_{mk}).$$\n"
      ]
    },
    {
      "cell_type": "code",
      "execution_count": null,
      "metadata": {
        "id": "5cDuJXfa4s71"
      },
      "outputs": [],
      "source": [
        "p = np.linspace(1E-6, 1-1E-6, 100)\n",
        "entropy = -(p*np.log2(p) + p* np.log2(p) )\n",
        "\n",
        "plt.plot(p, gini)\n",
        "plt.xlabel('$p$')\n",
        "plt.ylabel('entropy')"
      ]
    },
    {
      "cell_type": "markdown",
      "metadata": {
        "id": "5ioYQMCw4s72"
      },
      "source": [
        "**gini impurity and entropy dont have too much difference**"
      ]
    },
    {
      "cell_type": "markdown",
      "metadata": {
        "id": "RPNJ_zV24s72"
      },
      "source": [
        "# REGRESSION TREES\n",
        "The process of constructing a decision tree for regression is the nearly identical as classification. However, instead performing node splits that result in an overall drop of entropy or Gini impurity, splits are chosen to produce nodes with an overall reduction in variance of the training labels. "
      ]
    },
    {
      "cell_type": "code",
      "execution_count": null,
      "metadata": {
        "id": "UgGWqjk74s72"
      },
      "outputs": [],
      "source": [
        "from sklearn.datasets import fetch_california_housing\n",
        "from sklearn.tree import DecisionTreeRegressor\n",
        "from sklearn.metrics import mean_squared_error, mean_absolute_error\n",
        "# load data set\n",
        "data = fetch_california_housing()\n",
        "X = data['data']\n",
        "y = data['target']\n",
        "\n",
        "# train decision tree\n",
        "tree = DecisionTreeRegressor(max_depth=3)\n",
        "tree.fit(X, y);\n",
        "\n",
        "# visual tree\n",
        "# graphviz.Source(export_graphviz(tree, \n",
        "#                                 out_file=None,\n",
        "#                                 feature_names=data['feature_names']))"
      ]
    },
    {
      "cell_type": "code",
      "execution_count": null,
      "metadata": {
        "id": "1isR4Iyc4s73"
      },
      "outputs": [],
      "source": [
        "DecisionTreeClassifier?"
      ]
    },
    {
      "cell_type": "code",
      "execution_count": null,
      "metadata": {
        "collapsed": true,
        "id": "bKh7A_lA4s73",
        "outputId": "98abb5f3-44fa-4f5f-ec94-397019fda88a"
      },
      "outputs": [
        {
          "name": "stdout",
          "output_type": "stream",
          "text": [
            "Fitting 3 folds for each of 45 candidates, totalling 135 fits\n"
          ]
        },
        {
          "name": "stderr",
          "output_type": "stream",
          "text": [
            "[Parallel(n_jobs=2)]: Using backend LokyBackend with 2 concurrent workers.\n"
          ]
        },
        {
          "ename": "ValueError",
          "evalue": "Unknown label type: 'continuous'",
          "output_type": "error",
          "traceback": [
            "\u001b[1;31m---------------------------------------------------------------------------\u001b[0m",
            "\u001b[1;31m_RemoteTraceback\u001b[0m                          Traceback (most recent call last)",
            "\u001b[1;31m_RemoteTraceback\u001b[0m: \n\"\"\"\nTraceback (most recent call last):\n  File \"C:\\Users\\ksulaiman\\Anaconda3\\lib\\site-packages\\sklearn\\externals\\joblib\\externals\\loky\\process_executor.py\", line 418, in _process_worker\n    r = call_item()\n  File \"C:\\Users\\ksulaiman\\Anaconda3\\lib\\site-packages\\sklearn\\externals\\joblib\\externals\\loky\\process_executor.py\", line 272, in __call__\n    return self.fn(*self.args, **self.kwargs)\n  File \"C:\\Users\\ksulaiman\\Anaconda3\\lib\\site-packages\\sklearn\\externals\\joblib\\_parallel_backends.py\", line 567, in __call__\n    return self.func(*args, **kwargs)\n  File \"C:\\Users\\ksulaiman\\Anaconda3\\lib\\site-packages\\sklearn\\externals\\joblib\\parallel.py\", line 225, in __call__\n    for func, args, kwargs in self.items]\n  File \"C:\\Users\\ksulaiman\\Anaconda3\\lib\\site-packages\\sklearn\\externals\\joblib\\parallel.py\", line 225, in <listcomp>\n    for func, args, kwargs in self.items]\n  File \"C:\\Users\\ksulaiman\\Anaconda3\\lib\\site-packages\\sklearn\\model_selection\\_validation.py\", line 528, in _fit_and_score\n    estimator.fit(X_train, y_train, **fit_params)\n  File \"C:\\Users\\ksulaiman\\Anaconda3\\lib\\site-packages\\sklearn\\tree\\tree.py\", line 801, in fit\n    X_idx_sorted=X_idx_sorted)\n  File \"C:\\Users\\ksulaiman\\Anaconda3\\lib\\site-packages\\sklearn\\tree\\tree.py\", line 140, in fit\n    check_classification_targets(y)\n  File \"C:\\Users\\ksulaiman\\Anaconda3\\lib\\site-packages\\sklearn\\utils\\multiclass.py\", line 171, in check_classification_targets\n    raise ValueError(\"Unknown label type: %r\" % y_type)\nValueError: Unknown label type: 'continuous'\n\"\"\"",
            "\nThe above exception was the direct cause of the following exception:\n",
            "\u001b[1;31mValueError\u001b[0m                                Traceback (most recent call last)",
            "\u001b[1;32m<ipython-input-5-51045c3d3f62>\u001b[0m in \u001b[0;36m<module>\u001b[1;34m\u001b[0m\n\u001b[0;32m      4\u001b[0m gs = GridSearchCV(tree_gs,\n\u001b[0;32m      5\u001b[0m                  param_grid=param_grid,cv=3, n_jobs=2, verbose=1,iid=True)\n\u001b[1;32m----> 6\u001b[1;33m \u001b[0mgs\u001b[0m\u001b[1;33m.\u001b[0m\u001b[0mfit\u001b[0m\u001b[1;33m(\u001b[0m\u001b[0mX\u001b[0m\u001b[1;33m,\u001b[0m\u001b[0my\u001b[0m\u001b[1;33m)\u001b[0m\u001b[1;33m;\u001b[0m\u001b[1;33m\u001b[0m\u001b[1;33m\u001b[0m\u001b[0m\n\u001b[0m",
            "\u001b[1;32m~\\Anaconda3\\lib\\site-packages\\sklearn\\model_selection\\_search.py\u001b[0m in \u001b[0;36mfit\u001b[1;34m(self, X, y, groups, **fit_params)\u001b[0m\n\u001b[0;32m    720\u001b[0m                 \u001b[1;32mreturn\u001b[0m \u001b[0mresults_container\u001b[0m\u001b[1;33m[\u001b[0m\u001b[1;36m0\u001b[0m\u001b[1;33m]\u001b[0m\u001b[1;33m\u001b[0m\u001b[1;33m\u001b[0m\u001b[0m\n\u001b[0;32m    721\u001b[0m \u001b[1;33m\u001b[0m\u001b[0m\n\u001b[1;32m--> 722\u001b[1;33m             \u001b[0mself\u001b[0m\u001b[1;33m.\u001b[0m\u001b[0m_run_search\u001b[0m\u001b[1;33m(\u001b[0m\u001b[0mevaluate_candidates\u001b[0m\u001b[1;33m)\u001b[0m\u001b[1;33m\u001b[0m\u001b[1;33m\u001b[0m\u001b[0m\n\u001b[0m\u001b[0;32m    723\u001b[0m \u001b[1;33m\u001b[0m\u001b[0m\n\u001b[0;32m    724\u001b[0m         \u001b[0mresults\u001b[0m \u001b[1;33m=\u001b[0m \u001b[0mresults_container\u001b[0m\u001b[1;33m[\u001b[0m\u001b[1;36m0\u001b[0m\u001b[1;33m]\u001b[0m\u001b[1;33m\u001b[0m\u001b[1;33m\u001b[0m\u001b[0m\n",
            "\u001b[1;32m~\\Anaconda3\\lib\\site-packages\\sklearn\\model_selection\\_search.py\u001b[0m in \u001b[0;36m_run_search\u001b[1;34m(self, evaluate_candidates)\u001b[0m\n\u001b[0;32m   1189\u001b[0m     \u001b[1;32mdef\u001b[0m \u001b[0m_run_search\u001b[0m\u001b[1;33m(\u001b[0m\u001b[0mself\u001b[0m\u001b[1;33m,\u001b[0m \u001b[0mevaluate_candidates\u001b[0m\u001b[1;33m)\u001b[0m\u001b[1;33m:\u001b[0m\u001b[1;33m\u001b[0m\u001b[1;33m\u001b[0m\u001b[0m\n\u001b[0;32m   1190\u001b[0m         \u001b[1;34m\"\"\"Search all candidates in param_grid\"\"\"\u001b[0m\u001b[1;33m\u001b[0m\u001b[1;33m\u001b[0m\u001b[0m\n\u001b[1;32m-> 1191\u001b[1;33m         \u001b[0mevaluate_candidates\u001b[0m\u001b[1;33m(\u001b[0m\u001b[0mParameterGrid\u001b[0m\u001b[1;33m(\u001b[0m\u001b[0mself\u001b[0m\u001b[1;33m.\u001b[0m\u001b[0mparam_grid\u001b[0m\u001b[1;33m)\u001b[0m\u001b[1;33m)\u001b[0m\u001b[1;33m\u001b[0m\u001b[1;33m\u001b[0m\u001b[0m\n\u001b[0m\u001b[0;32m   1192\u001b[0m \u001b[1;33m\u001b[0m\u001b[0m\n\u001b[0;32m   1193\u001b[0m \u001b[1;33m\u001b[0m\u001b[0m\n",
            "\u001b[1;32m~\\Anaconda3\\lib\\site-packages\\sklearn\\model_selection\\_search.py\u001b[0m in \u001b[0;36mevaluate_candidates\u001b[1;34m(candidate_params)\u001b[0m\n\u001b[0;32m    709\u001b[0m                                \u001b[1;32mfor\u001b[0m \u001b[0mparameters\u001b[0m\u001b[1;33m,\u001b[0m \u001b[1;33m(\u001b[0m\u001b[0mtrain\u001b[0m\u001b[1;33m,\u001b[0m \u001b[0mtest\u001b[0m\u001b[1;33m)\u001b[0m\u001b[1;33m\u001b[0m\u001b[1;33m\u001b[0m\u001b[0m\n\u001b[0;32m    710\u001b[0m                                in product(candidate_params,\n\u001b[1;32m--> 711\u001b[1;33m                                           cv.split(X, y, groups)))\n\u001b[0m\u001b[0;32m    712\u001b[0m \u001b[1;33m\u001b[0m\u001b[0m\n\u001b[0;32m    713\u001b[0m                 \u001b[0mall_candidate_params\u001b[0m\u001b[1;33m.\u001b[0m\u001b[0mextend\u001b[0m\u001b[1;33m(\u001b[0m\u001b[0mcandidate_params\u001b[0m\u001b[1;33m)\u001b[0m\u001b[1;33m\u001b[0m\u001b[1;33m\u001b[0m\u001b[0m\n",
            "\u001b[1;32m~\\Anaconda3\\lib\\site-packages\\sklearn\\externals\\joblib\\parallel.py\u001b[0m in \u001b[0;36m__call__\u001b[1;34m(self, iterable)\u001b[0m\n\u001b[0;32m    928\u001b[0m \u001b[1;33m\u001b[0m\u001b[0m\n\u001b[0;32m    929\u001b[0m             \u001b[1;32mwith\u001b[0m \u001b[0mself\u001b[0m\u001b[1;33m.\u001b[0m\u001b[0m_backend\u001b[0m\u001b[1;33m.\u001b[0m\u001b[0mretrieval_context\u001b[0m\u001b[1;33m(\u001b[0m\u001b[1;33m)\u001b[0m\u001b[1;33m:\u001b[0m\u001b[1;33m\u001b[0m\u001b[1;33m\u001b[0m\u001b[0m\n\u001b[1;32m--> 930\u001b[1;33m                 \u001b[0mself\u001b[0m\u001b[1;33m.\u001b[0m\u001b[0mretrieve\u001b[0m\u001b[1;33m(\u001b[0m\u001b[1;33m)\u001b[0m\u001b[1;33m\u001b[0m\u001b[1;33m\u001b[0m\u001b[0m\n\u001b[0m\u001b[0;32m    931\u001b[0m             \u001b[1;31m# Make sure that we get a last message telling us we are done\u001b[0m\u001b[1;33m\u001b[0m\u001b[1;33m\u001b[0m\u001b[1;33m\u001b[0m\u001b[0m\n\u001b[0;32m    932\u001b[0m             \u001b[0melapsed_time\u001b[0m \u001b[1;33m=\u001b[0m \u001b[0mtime\u001b[0m\u001b[1;33m.\u001b[0m\u001b[0mtime\u001b[0m\u001b[1;33m(\u001b[0m\u001b[1;33m)\u001b[0m \u001b[1;33m-\u001b[0m \u001b[0mself\u001b[0m\u001b[1;33m.\u001b[0m\u001b[0m_start_time\u001b[0m\u001b[1;33m\u001b[0m\u001b[1;33m\u001b[0m\u001b[0m\n",
            "\u001b[1;32m~\\Anaconda3\\lib\\site-packages\\sklearn\\externals\\joblib\\parallel.py\u001b[0m in \u001b[0;36mretrieve\u001b[1;34m(self)\u001b[0m\n\u001b[0;32m    831\u001b[0m             \u001b[1;32mtry\u001b[0m\u001b[1;33m:\u001b[0m\u001b[1;33m\u001b[0m\u001b[1;33m\u001b[0m\u001b[0m\n\u001b[0;32m    832\u001b[0m                 \u001b[1;32mif\u001b[0m \u001b[0mgetattr\u001b[0m\u001b[1;33m(\u001b[0m\u001b[0mself\u001b[0m\u001b[1;33m.\u001b[0m\u001b[0m_backend\u001b[0m\u001b[1;33m,\u001b[0m \u001b[1;34m'supports_timeout'\u001b[0m\u001b[1;33m,\u001b[0m \u001b[1;32mFalse\u001b[0m\u001b[1;33m)\u001b[0m\u001b[1;33m:\u001b[0m\u001b[1;33m\u001b[0m\u001b[1;33m\u001b[0m\u001b[0m\n\u001b[1;32m--> 833\u001b[1;33m                     \u001b[0mself\u001b[0m\u001b[1;33m.\u001b[0m\u001b[0m_output\u001b[0m\u001b[1;33m.\u001b[0m\u001b[0mextend\u001b[0m\u001b[1;33m(\u001b[0m\u001b[0mjob\u001b[0m\u001b[1;33m.\u001b[0m\u001b[0mget\u001b[0m\u001b[1;33m(\u001b[0m\u001b[0mtimeout\u001b[0m\u001b[1;33m=\u001b[0m\u001b[0mself\u001b[0m\u001b[1;33m.\u001b[0m\u001b[0mtimeout\u001b[0m\u001b[1;33m)\u001b[0m\u001b[1;33m)\u001b[0m\u001b[1;33m\u001b[0m\u001b[1;33m\u001b[0m\u001b[0m\n\u001b[0m\u001b[0;32m    834\u001b[0m                 \u001b[1;32melse\u001b[0m\u001b[1;33m:\u001b[0m\u001b[1;33m\u001b[0m\u001b[1;33m\u001b[0m\u001b[0m\n\u001b[0;32m    835\u001b[0m                     \u001b[0mself\u001b[0m\u001b[1;33m.\u001b[0m\u001b[0m_output\u001b[0m\u001b[1;33m.\u001b[0m\u001b[0mextend\u001b[0m\u001b[1;33m(\u001b[0m\u001b[0mjob\u001b[0m\u001b[1;33m.\u001b[0m\u001b[0mget\u001b[0m\u001b[1;33m(\u001b[0m\u001b[1;33m)\u001b[0m\u001b[1;33m)\u001b[0m\u001b[1;33m\u001b[0m\u001b[1;33m\u001b[0m\u001b[0m\n",
            "\u001b[1;32m~\\Anaconda3\\lib\\site-packages\\sklearn\\externals\\joblib\\_parallel_backends.py\u001b[0m in \u001b[0;36mwrap_future_result\u001b[1;34m(future, timeout)\u001b[0m\n\u001b[0;32m    519\u001b[0m         AsyncResults.get from multiprocessing.\"\"\"\n\u001b[0;32m    520\u001b[0m         \u001b[1;32mtry\u001b[0m\u001b[1;33m:\u001b[0m\u001b[1;33m\u001b[0m\u001b[1;33m\u001b[0m\u001b[0m\n\u001b[1;32m--> 521\u001b[1;33m             \u001b[1;32mreturn\u001b[0m \u001b[0mfuture\u001b[0m\u001b[1;33m.\u001b[0m\u001b[0mresult\u001b[0m\u001b[1;33m(\u001b[0m\u001b[0mtimeout\u001b[0m\u001b[1;33m=\u001b[0m\u001b[0mtimeout\u001b[0m\u001b[1;33m)\u001b[0m\u001b[1;33m\u001b[0m\u001b[1;33m\u001b[0m\u001b[0m\n\u001b[0m\u001b[0;32m    522\u001b[0m         \u001b[1;32mexcept\u001b[0m \u001b[0mLokyTimeoutError\u001b[0m\u001b[1;33m:\u001b[0m\u001b[1;33m\u001b[0m\u001b[1;33m\u001b[0m\u001b[0m\n\u001b[0;32m    523\u001b[0m             \u001b[1;32mraise\u001b[0m \u001b[0mTimeoutError\u001b[0m\u001b[1;33m(\u001b[0m\u001b[1;33m)\u001b[0m\u001b[1;33m\u001b[0m\u001b[1;33m\u001b[0m\u001b[0m\n",
            "\u001b[1;32m~\\Anaconda3\\lib\\concurrent\\futures\\_base.py\u001b[0m in \u001b[0;36mresult\u001b[1;34m(self, timeout)\u001b[0m\n\u001b[0;32m    430\u001b[0m                 \u001b[1;32mraise\u001b[0m \u001b[0mCancelledError\u001b[0m\u001b[1;33m(\u001b[0m\u001b[1;33m)\u001b[0m\u001b[1;33m\u001b[0m\u001b[1;33m\u001b[0m\u001b[0m\n\u001b[0;32m    431\u001b[0m             \u001b[1;32melif\u001b[0m \u001b[0mself\u001b[0m\u001b[1;33m.\u001b[0m\u001b[0m_state\u001b[0m \u001b[1;33m==\u001b[0m \u001b[0mFINISHED\u001b[0m\u001b[1;33m:\u001b[0m\u001b[1;33m\u001b[0m\u001b[1;33m\u001b[0m\u001b[0m\n\u001b[1;32m--> 432\u001b[1;33m                 \u001b[1;32mreturn\u001b[0m \u001b[0mself\u001b[0m\u001b[1;33m.\u001b[0m\u001b[0m__get_result\u001b[0m\u001b[1;33m(\u001b[0m\u001b[1;33m)\u001b[0m\u001b[1;33m\u001b[0m\u001b[1;33m\u001b[0m\u001b[0m\n\u001b[0m\u001b[0;32m    433\u001b[0m             \u001b[1;32melse\u001b[0m\u001b[1;33m:\u001b[0m\u001b[1;33m\u001b[0m\u001b[1;33m\u001b[0m\u001b[0m\n\u001b[0;32m    434\u001b[0m                 \u001b[1;32mraise\u001b[0m \u001b[0mTimeoutError\u001b[0m\u001b[1;33m(\u001b[0m\u001b[1;33m)\u001b[0m\u001b[1;33m\u001b[0m\u001b[1;33m\u001b[0m\u001b[0m\n",
            "\u001b[1;32m~\\Anaconda3\\lib\\concurrent\\futures\\_base.py\u001b[0m in \u001b[0;36m__get_result\u001b[1;34m(self)\u001b[0m\n\u001b[0;32m    382\u001b[0m     \u001b[1;32mdef\u001b[0m \u001b[0m__get_result\u001b[0m\u001b[1;33m(\u001b[0m\u001b[0mself\u001b[0m\u001b[1;33m)\u001b[0m\u001b[1;33m:\u001b[0m\u001b[1;33m\u001b[0m\u001b[1;33m\u001b[0m\u001b[0m\n\u001b[0;32m    383\u001b[0m         \u001b[1;32mif\u001b[0m \u001b[0mself\u001b[0m\u001b[1;33m.\u001b[0m\u001b[0m_exception\u001b[0m\u001b[1;33m:\u001b[0m\u001b[1;33m\u001b[0m\u001b[1;33m\u001b[0m\u001b[0m\n\u001b[1;32m--> 384\u001b[1;33m             \u001b[1;32mraise\u001b[0m \u001b[0mself\u001b[0m\u001b[1;33m.\u001b[0m\u001b[0m_exception\u001b[0m\u001b[1;33m\u001b[0m\u001b[1;33m\u001b[0m\u001b[0m\n\u001b[0m\u001b[0;32m    385\u001b[0m         \u001b[1;32melse\u001b[0m\u001b[1;33m:\u001b[0m\u001b[1;33m\u001b[0m\u001b[1;33m\u001b[0m\u001b[0m\n\u001b[0;32m    386\u001b[0m             \u001b[1;32mreturn\u001b[0m \u001b[0mself\u001b[0m\u001b[1;33m.\u001b[0m\u001b[0m_result\u001b[0m\u001b[1;33m\u001b[0m\u001b[1;33m\u001b[0m\u001b[0m\n",
            "\u001b[1;31mValueError\u001b[0m: Unknown label type: 'continuous'"
          ]
        }
      ],
      "source": [
        "from sklearn.model_selection import GridSearchCV\n",
        "tree_gs = DecisionTreeClassifier(max_depth=2)\n",
        "param_grid = {'max_depth': range(1,10), \"min_samples_split\":[2,4,6,8,10]}\n",
        "gs = GridSearchCV(tree_gs,\n",
        "                 param_grid=param_grid,cv=3, n_jobs=2, verbose=1, iid=True)\n",
        "gs.fit(X,y);\n"
      ]
    },
    {
      "cell_type": "code",
      "execution_count": null,
      "metadata": {
        "id": "91crjhnA4s74"
      },
      "outputs": [],
      "source": [
        "model = gs.best_estimator_"
      ]
    },
    {
      "cell_type": "markdown",
      "metadata": {
        "id": "53SYX0j34s75"
      },
      "source": [
        "\n",
        "## geometric interpretation"
      ]
    },
    {
      "cell_type": "code",
      "execution_count": null,
      "metadata": {
        "id": "unsC9CoP4s75"
      },
      "outputs": [],
      "source": [
        "from sklearn.datasets import make_moons\n",
        "from sklearn.model_selection import train_test_split\n",
        "\n",
        "X, y = make_moons(n_samples=250, noise=0.25, random_state=0)\n",
        "X_train, X_test, y_train, y_test = train_test_split(X, y, test_size=0.2, random_state=0)\n",
        "\n",
        "def tree_decision_boundary(max_depth=5, min_samples_leaf=2):\n",
        "    tree = DecisionTreeClassifier(max_depth=max_depth, min_samples_leaf=min_samples_leaf)\n",
        "    tree.fit(X_train, y_train)\n",
        "    accuracy = tree.score(X_test, y_test)\n",
        "    \n",
        "    X1, X2 = np.meshgrid(np.linspace(-2, 3), np.linspace(-2, 2))\n",
        "    y_proba = tree.predict_proba(np.hstack((X1.reshape(-1, 1), X2.reshape(-1, 1))))[:, 1]\n",
        "    plt.contourf(X1, X2, y_proba.reshape(50, 50),  16, cmap=plt.cm.bwr, alpha=0.75)\n",
        "    plt.colorbar()\n",
        "\n",
        "    plt.scatter(X[:, 0], X[:, 1], c=y, edgecolors='white', cmap=plt.cm.bwr)\n",
        "    plt.xlabel('$x_1$')\n",
        "    plt.ylabel('$x_2$')\n",
        "    plt.title('accuracy: {}'.format(accuracy));\n",
        "\n",
        "# depth_slider = IntSlider(min=1, max=40, step=1, description='max depth')\n",
        "# min_samples_leaf_slider = IntSlider(min=1, max=20, step=1, description='min leaf size')\n",
        "# interact(tree_decision_boundary, max_depth=depth_slider, min_samples_leaf=min_samples_leaf_slider);"
      ]
    },
    {
      "cell_type": "markdown",
      "metadata": {
        "id": "lrqnENUx4s76"
      },
      "source": [
        "### if features are highly correlated, thereis difficulty in performing split or separations"
      ]
    },
    {
      "cell_type": "markdown",
      "metadata": {
        "id": "2yWP82uS4s76"
      },
      "source": [
        "## Ensemble models"
      ]
    },
    {
      "cell_type": "markdown",
      "metadata": {
        "id": "Nfft3wYS4s76"
      },
      "source": [
        "### random forest"
      ]
    },
    {
      "cell_type": "code",
      "execution_count": null,
      "metadata": {
        "id": "QdavgS8Y4s76",
        "outputId": "3fa867e2-0717-40ae-86b0-a4ea407d0850"
      },
      "outputs": [
        {
          "data": {
            "image/png": "[encoded data removed]",
            "text/plain": [
              "<Figure size 432x288 with 1 Axes>"
            ]
          },
          "metadata": {
            "needs_background": "light"
          },
          "output_type": "display_data"
        }
      ],
      "source": [
        "from sklearn.datasets import make_regression\n",
        "from sklearn.ensemble import RandomForestRegressor\n",
        "from sklearn.metrics import mean_squared_error\n",
        "\n",
        "X, y = make_regression(n_samples=1000, n_features=100, n_informative=20, random_state=0)\n",
        "X_train, X_test, y_train, y_test = train_test_split(X, y, test_size=0.2, random_state=0)\n",
        "\n",
        "def rf_mse(max_features='sqrt', n_max=50):\n",
        "    \"\"\"Generate mean squared errors for growing random forest.\"\"\"\n",
        "    \n",
        "    rgr = RandomForestRegressor(max_features=max_features,\n",
        "                                max_depth=8, n_estimators=1, \n",
        "                                warm_start=True, \n",
        "                                random_state=0)\n",
        "    mse = np.zeros(n_max)\n",
        "\n",
        "    for n in range(1, n_max):\n",
        "        rgr.set_params(n_estimators=n)\n",
        "        rgr.fit(X_train, y_train)\n",
        "        mse[n-1] = mean_squared_error(y_test, rgr.predict(X_test))\n",
        "\n",
        "    return mse\n",
        "\n",
        "for param in ('sqrt', 'log2'):\n",
        "    mse = rf_mse(max_features=param)\n",
        "    plt.plot(mse[:-1])\n",
        "\n",
        "plt.xlabel('number of trees')\n",
        "plt.ylabel('mean squared error')\n",
        "plt.legend(['sqrt', 'log2', 'all']);"
      ]
    },
    {
      "cell_type": "markdown",
      "metadata": {
        "id": "YGli0uYw4s77"
      },
      "source": [
        "## extremely randomized forests"
      ]
    },
    {
      "cell_type": "markdown",
      "metadata": {
        "id": "W4x0MG_W4s77"
      },
      "source": [
        "## gradient boost"
      ]
    },
    {
      "cell_type": "code",
      "execution_count": null,
      "metadata": {
        "id": "yor09c3R4s77",
        "outputId": "cced5571-0202-4c87-8b68-ac98d81f52a0"
      },
      "outputs": [
        {
          "data": {
            "image/png": "[encoded data removed]",
            "text/plain": [
              "<Figure size 432x288 with 1 Axes>"
            ]
          },
          "metadata": {
            "needs_background": "light"
          },
          "output_type": "display_data"
        }
      ],
      "source": [
        "from sklearn.ensemble import GradientBoostingRegressor\n",
        "\n",
        "def gb_mse(learning_rate=1.0, subsample=1.0, n_max=80):\n",
        "    \"\"\"Generate mean squared errors for growing gradient boosting trees.\"\"\"\n",
        "    \n",
        "    rgr = GradientBoostingRegressor(learning_rate=learning_rate,\n",
        "                                    subsample=subsample,\n",
        "                                    max_depth=2, \n",
        "                                    n_estimators=1, \n",
        "                                    warm_start=True, \n",
        "                                    random_state=0)\n",
        "    mse = np.zeros(n_max)\n",
        "\n",
        "    for n in range(1, n_max):\n",
        "        rgr.set_params(n_estimators=n)\n",
        "        rgr.fit(X_train, y_train)\n",
        "        mse[n-1] = mean_squared_error(y_test, rgr.predict(X_test))\n",
        "\n",
        "    return mse\n",
        "\n",
        "def gen_legend_str(hparams):\n",
        "    \"\"\"Generate strings for legend in plot.\"\"\"\n",
        "    \n",
        "    base_str = 'learning rate: {} subsample: {}'\n",
        "    \n",
        "    return [base_str.format(d['learning_rate'], d['subsample']) for d in hparams]\n",
        "\n",
        "hparams = ({'learning_rate': 1.0, 'subsample': 1.0},\n",
        "           {'learning_rate': 1.0, 'subsample': 0.5},\n",
        "           {'learning_rate': 0.75, 'subsample': 0.5},\n",
        "           {'learning_rate': 0.5, 'subsample': 0.5})\n",
        "\n",
        "for kwargs in hparams:\n",
        "    mse = gb_mse(**kwargs)\n",
        "    plt.plot(mse[:-1])\n",
        "\n",
        "legend_strs = gen_legend_str(hparams)\n",
        "plt.xlabel('number of trees')\n",
        "plt.ylabel('mean squared error')\n",
        "plt.legend(legend_strs);"
      ]
    },
    {
      "cell_type": "markdown",
      "metadata": {
        "id": "GveV7iTW4s78"
      },
      "source": [
        "## Feature importance"
      ]
    },
    {
      "cell_type": "code",
      "execution_count": null,
      "metadata": {
        "collapsed": true,
        "id": "D3y3kEg54s78",
        "outputId": "d28dc4aa-a0aa-42fa-fb19-9e8ebfa5605c"
      },
      "outputs": [
        {
          "name": "stdout",
          "output_type": "stream",
          "text": [
            "Fitting 3 folds for each of 40 candidates, totalling 120 fits\n"
          ]
        },
        {
          "name": "stderr",
          "output_type": "stream",
          "text": [
            "[Parallel(n_jobs=2)]: Using backend LokyBackend with 2 concurrent workers.\n",
            "[Parallel(n_jobs=2)]: Done 120 out of 120 | elapsed:    2.9s finished\n"
          ]
        },
        {
          "data": {
            "image/png": "[encoded data removed]",
            "text/plain": [
              "<Figure size 432x288 with 1 Axes>"
            ]
          },
          "metadata": {
            "needs_background": "light"
          },
          "output_type": "display_data"
        }
      ],
      "source": [
        "import pandas as pd\n",
        "from sklearn.ensemble import RandomForestClassifier\n",
        "from sklearn.model_selection import GridSearchCV\n",
        "\n",
        "# load data set\n",
        "data = load_iris()\n",
        "X = data['data']\n",
        "y = data['target']\n",
        "feature_names = data['feature_names']\n",
        "\n",
        "# tune random forest\n",
        "tree = RandomForestClassifier(n_estimators=20, random_state=0)\n",
        "param_grid = {'max_depth': range(2, 10), 'min_samples_split': [2, 4, 6, 8, 10]}\n",
        "grid_search = GridSearchCV(tree, param_grid, cv=3, n_jobs=2, verbose=1, iid=True)\n",
        "grid_search.fit(X, y)\n",
        "best_model = grid_search.best_estimator_\n",
        "\n",
        "# plot feature importance\n",
        "df = pd.DataFrame({'importance': best_model.feature_importances_}, index=feature_names)\n",
        "df.plot.bar();"
      ]
    },
    {
      "cell_type": "markdown",
      "metadata": {
        "id": "Yf3eIsff4s78"
      },
      "source": [
        "## Exercises\n",
        "\n",
        "1. For the California housing data set, tune `max_depth` and either `min_samples_split` or `min_samples_leaf` for a decision tree regressor.\n",
        "fm1. Repeat the previous task but use a random forest, extremely randomized trees, and a gradient boosting tree. Consider the available hyperparameters for each of the models and decide which ones to include when tuning. How do the  models perform?"
      ]
    },
    {
      "cell_type": "code",
      "execution_count": null,
      "metadata": {
        "id": "Xu7eCCy64s78"
      },
      "outputs": [],
      "source": [
        "from sklearn.model_selection import RandomizedSearchCV, train_test_split\n",
        "X_train, X_test, y_train, y_test = train_test_split(X,y, test_size=0.2, random_state=0)\n",
        "\n",
        "def decision_tree (model, name, param_grid, n_iter=100):\n",
        "    random_search = RandomizedSearchCV(model, param_grid, cv=5,n_jobs=2, n_iter=n_iter)\n",
        "    random_search.fit(X_train, y_train)\n",
        "    print (\"Evaluating {}\".format(name))\n",
        "    print (\"Evaluating R^2: {}\". format(random_search.score(X_train, y_train)))\n",
        "    print (\"Testing R^2: {}\". format(random_search.best_score_))\n",
        "    \n",
        "    return random_search"
      ]
    },
    {
      "cell_type": "code",
      "execution_count": null,
      "metadata": {
        "id": "-KB9C8Zj4s79"
      },
      "outputs": [],
      "source": [
        "param_grid = {\"max_depth\": range(1,20),\n",
        "             \"min_samples_leaf\": range(2,100,2)}\n"
      ]
    },
    {
      "cell_type": "code",
      "execution_count": null,
      "metadata": {
        "id": "Rc22rSqp4s79",
        "outputId": "771cae15-c1ab-4867-9948-103e2d09e991"
      },
      "outputs": [
        {
          "name": "stdout",
          "output_type": "stream",
          "text": [
            "Evaluating gradient_boosting\n",
            "Evaluating R^2: 0.9688396890379504\n",
            "Testing R^2: 0.9254407158633993\n"
          ]
        }
      ],
      "source": [
        "rgr = GradientBoostingRegressor(n_estimators=50)\n",
        "gradient_boosting = decision_tree(rgr, 'gradient_boosting', param_grid)\n"
      ]
    },
    {
      "cell_type": "code",
      "execution_count": null,
      "metadata": {
        "id": "iMEDLcNk4s79"
      },
      "outputs": [],
      "source": [
        "GradientBoostingRegressor?"
      ]
    },
    {
      "cell_type": "code",
      "execution_count": null,
      "metadata": {
        "id": "IBBb6wcD4s79",
        "outputId": "7851d8e6-392f-401d-c5aa-e1ff798358c9"
      },
      "outputs": [
        {
          "data": {
            "text/plain": [
              "{'min_samples_leaf': 28, 'max_depth': 5}"
            ]
          },
          "execution_count": 27,
          "metadata": {},
          "output_type": "execute_result"
        }
      ],
      "source": [
        "gradient_boosting.best_params_"
      ]
    },
    {
      "cell_type": "code",
      "execution_count": null,
      "metadata": {
        "id": "Y-LuiQFa4s7-"
      },
      "outputs": [],
      "source": [
        "rgr = GradientBoostingRegressor(n_estimators=50, **gradient_boosting.best_params_)"
      ]
    },
    {
      "cell_type": "code",
      "execution_count": null,
      "metadata": {
        "id": "9wNIyei14s7-"
      },
      "outputs": [],
      "source": [
        "param_grid = {\"subsample\": np.linspace(.01,.99,100),\n",
        "             'learning_rate': np.linspace(.01,.99,100)}"
      ]
    },
    {
      "cell_type": "code",
      "execution_count": null,
      "metadata": {
        "id": "_xxTmDbJ4s7-",
        "outputId": "3dc8dbd7-e436-4fee-9d8a-2bfccaaffdab"
      },
      "outputs": [
        {
          "name": "stdout",
          "output_type": "stream",
          "text": [
            "Evaluating gradient_boosting\n",
            "Evaluating R^2: 0.9702047722208437\n",
            "Testing R^2: 0.9284982315273472\n"
          ]
        }
      ],
      "source": [
        "gradient_boosting = decision_tree(rgr, \"gradient_boosting\", param_grid)"
      ]
    },
    {
      "cell_type": "code",
      "execution_count": null,
      "metadata": {
        "id": "6cFcaunf4s7-",
        "outputId": "0c60640c-655b-4880-8eb3-44b4afcecc84"
      },
      "outputs": [
        {
          "data": {
            "text/plain": [
              "{'subsample': 0.9108080808080807, 'learning_rate': 0.23767676767676768}"
            ]
          },
          "execution_count": 35,
          "metadata": {},
          "output_type": "execute_result"
        }
      ],
      "source": [
        "gradient_boosting.best_params_"
      ]
    },
    {
      "cell_type": "code",
      "execution_count": null,
      "metadata": {
        "id": "1LKJ9sPt4s7_"
      },
      "outputs": [],
      "source": [
        ""
      ]
    }
  ],
  "metadata": {
    "kernelspec": {
      "display_name": "Python 3",
      "language": "python",
      "name": "python3"
    },
    "language_info": {
      "codemirror_mode": {
        "name": "ipython",
        "version": 3
      },
      "file_extension": ".py",
      "mimetype": "text/x-python",
      "name": "python",
      "nbconvert_exporter": "python",
      "pygments_lexer": "ipython3",
      "version": "3.7.1"
    },
    "colab": {
      "name": "Decision_Trees.ipynb",
      "provenance": []
    }
  },
  "nbformat": 4,
  "nbformat_minor": 0
}